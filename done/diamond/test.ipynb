{
 "cells": [
  {
   "cell_type": "code",
   "execution_count": 1,
   "metadata": {},
   "outputs": [],
   "source": [
    "ALPHABET = \"ABCDEFGHIJKLMNOPQRSTUVWXYZ\""
   ]
  },
  {
   "cell_type": "code",
   "execution_count": 5,
   "metadata": {},
   "outputs": [],
   "source": [
    "def rows(letter: str) -> list[str]:\n",
    "    letter_index = ALPHABET.index(letter)\n",
    "    result = []\n",
    "    for i in range(letter_index + 1):\n",
    "        if i == 0:\n",
    "            result.append(\" \" * (letter_index - i) + ALPHABET[i] + \" \" * (letter_index - i))\n",
    "        else:\n",
    "            result.append(\" \" * (letter_index - i) + ALPHABET[i] + \" \" * (2 * i - 1) + ALPHABET[i] + \" \" * (letter_index - i))\n",
    "    for i in range(letter_index - 1, -1, -1):   \n",
    "        if i == 0:\n",
    "            result.append(\" \" * (letter_index - i) + ALPHABET[i] + \" \" * (letter_index - i))\n",
    "        else:\n",
    "            result.append(\" \" * (letter_index - i) + ALPHABET[i] + \" \" * (2 * i - 1) + ALPHABET[i] + \" \" * (letter_index - i))  \n",
    "    return result"
   ]
  },
  {
   "cell_type": "code",
   "execution_count": 6,
   "metadata": {},
   "outputs": [
    {
     "data": {
      "text/plain": [
       "['   A   ', '  B B  ', ' C   C ', 'D     D', ' C   C ', '  B B  ', '   A   ']"
      ]
     },
     "execution_count": 6,
     "metadata": {},
     "output_type": "execute_result"
    }
   ],
   "source": [
    "rows(\"D\")"
   ]
  },
  {
   "cell_type": "code",
   "execution_count": null,
   "metadata": {},
   "outputs": [],
   "source": []
  }
 ],
 "metadata": {
  "kernelspec": {
   "display_name": "venv",
   "language": "python",
   "name": "python3"
  },
  "language_info": {
   "codemirror_mode": {
    "name": "ipython",
    "version": 3
   },
   "file_extension": ".py",
   "mimetype": "text/x-python",
   "name": "python",
   "nbconvert_exporter": "python",
   "pygments_lexer": "ipython3",
   "version": "3.10.11"
  },
  "orig_nbformat": 4
 },
 "nbformat": 4,
 "nbformat_minor": 2
}
