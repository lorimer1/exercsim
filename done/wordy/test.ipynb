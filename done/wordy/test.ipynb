{
 "cells": [
  {
   "cell_type": "code",
   "execution_count": 44,
   "metadata": {},
   "outputs": [],
   "source": [
    "def pop_next_operator(tokens: list) -> str:\n",
    "    \"\"\"Return the next operator from the list of tokens, or raise ValueError if not found.\"\"\"\n",
    "    if not tokens:\n",
    "        raise ValueError(\"Invalid question: expected operator\")\n",
    "    \n",
    "    operator = tokens.pop(0)\n",
    "    if operator not in [\"plus\", \"minus\", \"multiplied\", \"divided\"]:\n",
    "        raise ValueError(\"Invalid question: operator is invalid\")\n",
    "    \n",
    "    if operator in [\"multiplied\", \"divided\"]:\n",
    "        if tokens.pop(0) != \"by\":\n",
    "            raise ValueError(\"Invalid question: expected 'by'\")\n",
    "        \n",
    "    return operator"
   ]
  },
  {
   "cell_type": "code",
   "execution_count": 45,
   "metadata": {},
   "outputs": [],
   "source": [
    "def pop_next_operand(tokens: list) -> int:\n",
    "    \"\"\"Return the next operand from the list of tokens, or raise ValueError if not found.\"\"\"\n",
    "    if not tokens:\n",
    "        raise ValueError(\"Invalid question: expected operand\")\n",
    "    operand = tokens.pop(0)\n",
    "\n",
    "    try:\n",
    "        float(operand)\n",
    "    except ValueError:\n",
    "        raise ValueError(\"Invalid question: operand is invalid\")\n",
    "    \n",
    "    return int(operand)"
   ]
  },
  {
   "cell_type": "code",
   "execution_count": 46,
   "metadata": {},
   "outputs": [],
   "source": [
    "def answer(question: str) -> int:\n",
    "    question = question.lower()\n",
    "    if not question.startswith(\"what is \"):  # must start with \"What is \"\n",
    "        raise ValueError(\"Invalid question: must start with 'What is '\")\n",
    "\n",
    "    question = question.removeprefix(\"what is \")  # extract the question in lower case\n",
    "    question = question.strip(\"?\").strip()\n",
    "    tokens = question.split()  # split the question into tokens\n",
    "    answer = pop_next_operand(tokens)\n",
    "    \n",
    "    while tokens:  # process the rest of the tokens\n",
    "        if len(tokens) < 2: # must have at least one operator and one operand\n",
    "            raise ValueError(\"Invalid question: must have at least two tokens\")\n",
    "        \n",
    "        operator= pop_next_operator(tokens)\n",
    "        operand = pop_next_operand(tokens)\n",
    "            \n",
    "        if operator == \"plus\":\n",
    "            answer += operand\n",
    "        elif operator == \"minus\":\n",
    "            answer -= operand\n",
    "        elif operator == \"multiplied\":\n",
    "            answer *= operand\n",
    "        elif operator == \"divided\":\n",
    "            answer //= operand\n",
    "        else:\n",
    "            raise ValueError(\"Invalid question\")\n",
    "\n",
    "    return answer"
   ]
  },
  {
   "cell_type": "code",
   "execution_count": 47,
   "metadata": {},
   "outputs": [
    {
     "data": {
      "text/plain": [
       "-8"
      ]
     },
     "execution_count": 47,
     "metadata": {},
     "output_type": "execute_result"
    }
   ],
   "source": [
    "answer(\"What is -3 plus 7 multiplied by -2?\")"
   ]
  },
  {
   "cell_type": "code",
   "execution_count": null,
   "metadata": {},
   "outputs": [],
   "source": []
  },
  {
   "cell_type": "code",
   "execution_count": null,
   "metadata": {},
   "outputs": [],
   "source": []
  }
 ],
 "metadata": {
  "kernelspec": {
   "display_name": "venv",
   "language": "python",
   "name": "python3"
  },
  "language_info": {
   "codemirror_mode": {
    "name": "ipython",
    "version": 3
   },
   "file_extension": ".py",
   "mimetype": "text/x-python",
   "name": "python",
   "nbconvert_exporter": "python",
   "pygments_lexer": "ipython3",
   "version": "3.10.11"
  },
  "orig_nbformat": 4
 },
 "nbformat": 4,
 "nbformat_minor": 2
}
