{
 "cells": [
  {
   "cell_type": "code",
   "execution_count": 46,
   "metadata": {},
   "outputs": [],
   "source": [
    "import textwrap\n",
    "\n",
    "ALPHABET = 'abcdefghijklmnopqrstuvwxyz'"
   ]
  },
  {
   "cell_type": "code",
   "execution_count": 47,
   "metadata": {},
   "outputs": [],
   "source": [
    "def translate(text: str, cypher: list)-> str:\n",
    "    text = text.lower()\n",
    "    text = ''.join([c for c in text if c.isalnum()])\n",
    "    out = \"\"\n",
    "    for word in textwrap.wrap(text, 5):\n",
    "        for c in word:\n",
    "            out += cypher[c] if c in cypher else c\n",
    "        out += \" \"\n",
    "    return out[:-1]"
   ]
  },
  {
   "cell_type": "code",
   "execution_count": 48,
   "metadata": {},
   "outputs": [],
   "source": [
    "def encode(plain_text):\n",
    "    return translate(plain_text, {ALPHABET[i]: ALPHABET[-i-1] for i in range(len(ALPHABET))} )"
   ]
  },
  {
   "cell_type": "code",
   "execution_count": 51,
   "metadata": {},
   "outputs": [],
   "source": [
    "def decode(ciphered_text):\n",
    "    return translate(ciphered_text, {ALPHABET[-i-1]: ALPHABET[i] for i in range(len(ALPHABET))} ).replace(' ','')"
   ]
  },
  {
   "cell_type": "code",
   "execution_count": 52,
   "metadata": {},
   "outputs": [
    {
     "name": "stdout",
     "output_type": "stream",
     "text": [
      "anobstacleisoftenasteppingstone\n"
     ]
    }
   ],
   "source": [
    "print(decode(\"zmlyh gzxov rhlug vmzhg vkkrm thglm v\"))"
   ]
  },
  {
   "cell_type": "code",
   "execution_count": null,
   "metadata": {},
   "outputs": [],
   "source": []
  }
 ],
 "metadata": {
  "kernelspec": {
   "display_name": "venv",
   "language": "python",
   "name": "python3"
  },
  "language_info": {
   "codemirror_mode": {
    "name": "ipython",
    "version": 3
   },
   "file_extension": ".py",
   "mimetype": "text/x-python",
   "name": "python",
   "nbconvert_exporter": "python",
   "pygments_lexer": "ipython3",
   "version": "3.10.11"
  },
  "orig_nbformat": 4
 },
 "nbformat": 4,
 "nbformat_minor": 2
}
