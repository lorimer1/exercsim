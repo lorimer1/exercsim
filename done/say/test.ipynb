{
 "cells": [
  {
   "cell_type": "code",
   "execution_count": 81,
   "metadata": {},
   "outputs": [],
   "source": [
    "GROUPS = ['','thousand','million','billion','trillion','quadrillion','quintillion','sextillion','septillion','octillion','nonillion','decillion']\n",
    "TENS = ['','', 'twenty','thirty', 'forty', 'fifty', 'sixty', 'seventy', 'eighty', 'ninety']\n",
    "TEENS = ['ten', 'eleven', 'twelve', 'thirteen', 'fourteen', 'fifteen', 'sixteen','seventeen', 'eighteen', 'nineteen']\n",
    "UNITS = ['zero','one','two','three','four','five','six','seven','eight','nine']"
   ]
  },
  {
   "cell_type": "code",
   "execution_count": 82,
   "metadata": {},
   "outputs": [],
   "source": [
    "def convert_group(num):\n",
    "    if num == 0:\n",
    "        return ''\n",
    "\n",
    "    if num < 10:\n",
    "        return UNITS[num]\n",
    "\n",
    "    if num < 20:\n",
    "        return TEENS[num - 10]\n",
    "\n",
    "    if num < 100:\n",
    "        dash = '-' if num % 10 else ' '\n",
    "        return TENS[num // 10] + dash + convert_group(num % 10) \n",
    "\n",
    "    return UNITS[num // 100] + ' hundred ' + convert_group(num % 100)"
   ]
  },
  {
   "cell_type": "code",
   "execution_count": 83,
   "metadata": {},
   "outputs": [],
   "source": [
    "def say(number: int):\n",
    "    if number < 0 or number >= 1e12:\n",
    "        raise ValueError(\"Number out of range\")\n",
    "\n",
    "    if number == 0:\n",
    "        return \"zero\"\n",
    "\n",
    "    str_number = str(number)\n",
    "    if len(str_number) % 3 == 1:\n",
    "        str_number = \"00\" + str_number\n",
    "    elif len(str_number) % 3 == 2:      \n",
    "        str_number = \"0\" + str_number\n",
    "\n",
    "    groups = [str_number[i:i+3] for i in range(0, len(str_number), 3)]\n",
    "\n",
    "    result = \"\"\n",
    "    for i, group in enumerate(groups):\n",
    "        if group == \"000\":\n",
    "            continue\n",
    "        result += convert_group(int(group)) + \" \"\n",
    "        separator_index = len(groups) - i - 1\n",
    "        if separator_index > 0:\n",
    "            result += GROUPS[separator_index] + \" \"\n",
    "    \n",
    "    return result.strip()\n",
    "    "
   ]
  },
  {
   "cell_type": "code",
   "execution_count": 84,
   "metadata": {},
   "outputs": [
    {
     "data": {
      "text/plain": [
       "'twenty'"
      ]
     },
     "execution_count": 84,
     "metadata": {},
     "output_type": "execute_result"
    }
   ],
   "source": [
    "say(20)"
   ]
  },
  {
   "cell_type": "code",
   "execution_count": null,
   "metadata": {},
   "outputs": [],
   "source": []
  }
 ],
 "metadata": {
  "kernelspec": {
   "display_name": "venv",
   "language": "python",
   "name": "python3"
  },
  "language_info": {
   "codemirror_mode": {
    "name": "ipython",
    "version": 3
   },
   "file_extension": ".py",
   "mimetype": "text/x-python",
   "name": "python",
   "nbconvert_exporter": "python",
   "pygments_lexer": "ipython3",
   "version": "3.10.11"
  },
  "orig_nbformat": 4
 },
 "nbformat": 4,
 "nbformat_minor": 2
}
